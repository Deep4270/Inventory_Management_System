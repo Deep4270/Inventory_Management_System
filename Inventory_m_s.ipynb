{
  "nbformat": 4,
  "nbformat_minor": 0,
  "metadata": {
    "colab": {
      "name": "Inventory_m_s.ipynb",
      "provenance": []
    },
    "kernelspec": {
      "name": "python3",
      "display_name": "Python 3"
    },
    "language_info": {
      "name": "python"
    }
  },
  "cells": [
    {
      "cell_type": "code",
      "metadata": {
        "id": "bmHuPOrQPjBT"
      },
      "source": [
        "mall_store={100:{\"p_name\":\"icecream\",\"price\":22,\"quantity\":100,\"pkd_on\":\"november\",\"expyear\":2021},\n",
        "      101:{\"p_name\":\"cadbery \",\"price\":10,\"quantity\":140,\"pkd_on\":\"january\",\"expyear\":2023},\n",
        "      102:{\"p_name\":\"parle g\",\"price\":10,\"quantity\":40,\"pkd_on\":\"january\",\"expyear\":2023},\n",
        "      103:{\"p_name\":\"lays\",\"price\":5,\"quantity\":120,\"pkd_on\":\"feb\",\"expyear\":2026},\n",
        "      104:{\"p_name\":\"kurkure\",\"price\":10,\"quantity\":140,\"pkd_on\":\"febrauary\",\"expyear\":2026},\n",
        "      105:{\"p_name\":\"soap\",\"price\":25,\"quantity\":100,\"pkd_on\":\"june\",\"expyear\":2025},\n",
        "      106:{\"p_name\":\"lifeboy\",\"price\":27,\"quantity\":72,\"pkd_on\":\"june\",\"expyear\":2028},\n",
        "      107:{\"p_name\":\"Santoor\",\"price\":29,\"quantity\":60,\"pkd_on\":\"august\",\"expyear\":2026},\n",
        "      108:{\"p_name\":\"surfexel\",\"price\":35,\"quantity\":40,\"pkd_on\":\"january\",\"expyear\":2030},\n",
        "      109:{\"p_name\":\"sprite\",\"price\":40,\"quantity\":200,\"pkd_on\":\"january\",\"expyear\":2022},\n",
        "      110:{\"p_name\":\"cococola\",\"price\":42,\"quantity\":20,\"pkd_on\":\"march\",\"expyear\":2022},\n",
        "      111:{\"p_name\":\"chicken masala\",\"price\":10,\"quantity\":100,\"pkd_on\":\"june\",\"expyear\":2025},\n",
        "      112:{\"p_name\":\"garam masala\",\"price\":10,\"quantity\":90,\"pkd_on\":\"november\",\"expyear\":2025},\n",
        "      113:{\"p_name\":\"kinder joy\",\"price\":25,\"quantity\":76,\"pkd_on\":\"april\",\"expyear\":2024},\n",
        "      114:{\"p_name\":\"medimix\",\"price\":32,\"quantity\":30,\"pkd_on\":\"january\",\"expyear\":2026},\n",
        "      115:{\"p_name\":\"dove shampoo\",\"price\":60,\"quantity\":120,\"pkd_on\":\"march\",\"expyear\":2025},\n",
        "      116:{\"p_name\":\"chocobar\",\"price\":15,\"quantity\":40,\"pkd_on\":\"december\",\"expyear\":2022},\n",
        "      117:{\"p_name\":\"Axe perfume\",\"price\":90,\"quantity\":30,\"pkd_on\":\"july\",\"expyear\":2026},\n",
        "      118:{\"p_name\":\"chips\",\"price\":10,\"quantity\":140,\"pkd_on\":\"august\",\"expyear\":2024},\n",
        "      119:{\"p_name\":\"Bingo\",\"price\":20,\"quantity\":36,\"pkd_on\":\"june\",\"expyear\":2024},\n",
        "      120:{\"p_name\":\"headandshoulder\",\"price\":1,\"quantity\":400,\"pkd_on\":\"january\",\"expyear\":2029},\n",
        "      121:{\"p_name\":\"dove soap\",\"price\":30,\"quantity\":300,\"pkd_on\":\"september\",\"expyear\":2030},\n",
        "      122:{\"p_name\":\"Sunsilk\",\"price\":2,\"quantity\":345,\"pkd_on\":\"\",\"expyear\":2026},\n",
        "      123:{\"p_name\":\"layers shot\",\"price\":123,\"quantity\":30,\"pkd_on\":\"june\",\"expyear\":2030},\n",
        "      124:{\"p_name\":\"dairy milk shot\",\"price\":2,\"quantity\":140,\"pkd_on\":\"january\",\"expyear\":2022},\n",
        "      125:{\"p_name\":\"milky bar\",\"price\":5,\"quantity\":200,\"pkd_on\":\"march\",\"expyear\":2022},\n",
        "      126:{\"p_name\":\"bleaching powder\",\"price\":34,\"quantity\":40,\"pkd_on\":\"febrauary\",\"expyear\":2024},\n",
        "      127:{\"p_name\":\"phenol\",\"price\":45,\"quantity\":10,\"pkd_on\":\"march19\",\"expyear\":2025},\n",
        "      128:{\"p_name\":\"tropicana\",\"price\":90,\"quantity\":60,\"pkd_on\":\"december19\",\"expyear\":2023},\n",
        "      129:{\"p_name\":\"kitkat\",\"price\":10,\"quantity\":24,\"pkd_on\":\"march19\",\"expyear\":2024},\n",
        "      130:{\"p_name\":\" oil\",\"price\":150,\"quantity\":45,\"pkd_on\":\"november19\",\"expyear\":2025},}\n",
        "\n",
        "import json\n",
        "fd=open(\"data.json\",'w')     \n",
        "js=json.dumps(mall_store)"
      ],
      "execution_count": 1,
      "outputs": []
    },
    {
      "cell_type": "code",
      "metadata": {
        "colab": {
          "base_uri": "https://localhost:8080/",
          "height": 137
        },
        "id": "V4LmXT5XPop9",
        "outputId": "c3a2a56e-962d-43d2-e1f1-d553bf4bfe23"
      },
      "source": [
        "js"
      ],
      "execution_count": 2,
      "outputs": [
        {
          "output_type": "execute_result",
          "data": {
            "application/vnd.google.colaboratory.intrinsic+json": {
              "type": "string"
            },
            "text/plain": [
              "'{\"100\": {\"p_name\": \"icecream\", \"price\": 22, \"quantity\": 100, \"pkd_on\": \"november\", \"expyear\": 2021}, \"101\": {\"p_name\": \"cadbery \", \"price\": 10, \"quantity\": 140, \"pkd_on\": \"january\", \"expyear\": 2023}, \"102\": {\"p_name\": \"parle g\", \"price\": 10, \"quantity\": 40, \"pkd_on\": \"january\", \"expyear\": 2023}, \"103\": {\"p_name\": \"lays\", \"price\": 5, \"quantity\": 120, \"pkd_on\": \"feb\", \"expyear\": 2026}, \"104\": {\"p_name\": \"kurkure\", \"price\": 10, \"quantity\": 140, \"pkd_on\": \"febrauary\", \"expyear\": 2026}, \"105\": {\"p_name\": \"soap\", \"price\": 25, \"quantity\": 100, \"pkd_on\": \"june\", \"expyear\": 2025}, \"106\": {\"p_name\": \"lifeboy\", \"price\": 27, \"quantity\": 72, \"pkd_on\": \"june\", \"expyear\": 2028}, \"107\": {\"p_name\": \"Santoor\", \"price\": 29, \"quantity\": 60, \"pkd_on\": \"august\", \"expyear\": 2026}, \"108\": {\"p_name\": \"surfexel\", \"price\": 35, \"quantity\": 40, \"pkd_on\": \"january\", \"expyear\": 2030}, \"109\": {\"p_name\": \"sprite\", \"price\": 40, \"quantity\": 200, \"pkd_on\": \"january\", \"expyear\": 2022}, \"110\": {\"p_name\": \"cococola\", \"price\": 42, \"quantity\": 20, \"pkd_on\": \"march\", \"expyear\": 2022}, \"111\": {\"p_name\": \"chicken masala\", \"price\": 10, \"quantity\": 100, \"pkd_on\": \"june\", \"expyear\": 2025}, \"112\": {\"p_name\": \"garam masala\", \"price\": 10, \"quantity\": 90, \"pkd_on\": \"november\", \"expyear\": 2025}, \"113\": {\"p_name\": \"kinder joy\", \"price\": 25, \"quantity\": 76, \"pkd_on\": \"april\", \"expyear\": 2024}, \"114\": {\"p_name\": \"medimix\", \"price\": 32, \"quantity\": 30, \"pkd_on\": \"january\", \"expyear\": 2026}, \"115\": {\"p_name\": \"dove shampoo\", \"price\": 60, \"quantity\": 120, \"pkd_on\": \"march\", \"expyear\": 2025}, \"116\": {\"p_name\": \"chocobar\", \"price\": 15, \"quantity\": 40, \"pkd_on\": \"december\", \"expyear\": 2022}, \"117\": {\"p_name\": \"Axe perfume\", \"price\": 90, \"quantity\": 30, \"pkd_on\": \"july\", \"expyear\": 2026}, \"118\": {\"p_name\": \"chips\", \"price\": 10, \"quantity\": 140, \"pkd_on\": \"august\", \"expyear\": 2024}, \"119\": {\"p_name\": \"Bingo\", \"price\": 20, \"quantity\": 36, \"pkd_on\": \"june\", \"expyear\": 2024}, \"120\": {\"p_name\": \"headandshoulder\", \"price\": 1, \"quantity\": 400, \"pkd_on\": \"january\", \"expyear\": 2029}, \"121\": {\"p_name\": \"dove soap\", \"price\": 30, \"quantity\": 300, \"pkd_on\": \"september\", \"expyear\": 2030}, \"122\": {\"p_name\": \"Sunsilk\", \"price\": 2, \"quantity\": 345, \"pkd_on\": \"\", \"expyear\": 2026}, \"123\": {\"p_name\": \"layers shot\", \"price\": 123, \"quantity\": 30, \"pkd_on\": \"june\", \"expyear\": 2030}, \"124\": {\"p_name\": \"dairy milk shot\", \"price\": 2, \"quantity\": 140, \"pkd_on\": \"january\", \"expyear\": 2022}, \"125\": {\"p_name\": \"milky bar\", \"price\": 5, \"quantity\": 200, \"pkd_on\": \"march\", \"expyear\": 2022}, \"126\": {\"p_name\": \"bleaching powder\", \"price\": 34, \"quantity\": 40, \"pkd_on\": \"febrauary\", \"expyear\": 2024}, \"127\": {\"p_name\": \"phenol\", \"price\": 45, \"quantity\": 10, \"pkd_on\": \"march19\", \"expyear\": 2025}, \"128\": {\"p_name\": \"tropicana\", \"price\": 90, \"quantity\": 60, \"pkd_on\": \"december19\", \"expyear\": 2023}, \"129\": {\"p_name\": \"kitkat\", \"price\": 10, \"quantity\": 24, \"pkd_on\": \"march19\", \"expyear\": 2024}, \"130\": {\"p_name\": \" oil\", \"price\": 150, \"quantity\": 45, \"pkd_on\": \"november19\", \"expyear\": 2025}}'"
            ]
          },
          "metadata": {},
          "execution_count": 2
        }
      ]
    },
    {
      "cell_type": "code",
      "metadata": {
        "colab": {
          "base_uri": "https://localhost:8080/"
        },
        "id": "j9m3TvpGPsmV",
        "outputId": "50678484-1abd-4095-fdb1-1a2297d81cbe"
      },
      "source": [
        "fd.write(js)"
      ],
      "execution_count": 3,
      "outputs": [
        {
          "output_type": "execute_result",
          "data": {
            "text/plain": [
              "3042"
            ]
          },
          "metadata": {},
          "execution_count": 3
        }
      ]
    },
    {
      "cell_type": "code",
      "metadata": {
        "id": "x1ktTGsAPz2B"
      },
      "source": [
        "fd = open(\"data.json\",'r')\n",
        "\n",
        "t = fd.read()\n",
        "\n",
        "fd.close()"
      ],
      "execution_count": 4,
      "outputs": []
    },
    {
      "cell_type": "code",
      "metadata": {
        "colab": {
          "base_uri": "https://localhost:8080/"
        },
        "id": "4wSV_UuGP4Lp",
        "outputId": "3bdb7e2d-3e68-44bc-c415-975efc51286e"
      },
      "source": [
        "mall_store = json.loads(t)\n",
        "mall_store"
      ],
      "execution_count": 5,
      "outputs": [
        {
          "output_type": "execute_result",
          "data": {
            "text/plain": [
              "{'100': {'expyear': 2021,\n",
              "  'p_name': 'icecream',\n",
              "  'pkd_on': 'november',\n",
              "  'price': 22,\n",
              "  'quantity': 100},\n",
              " '101': {'expyear': 2023,\n",
              "  'p_name': 'cadbery ',\n",
              "  'pkd_on': 'january',\n",
              "  'price': 10,\n",
              "  'quantity': 140},\n",
              " '102': {'expyear': 2023,\n",
              "  'p_name': 'parle g',\n",
              "  'pkd_on': 'january',\n",
              "  'price': 10,\n",
              "  'quantity': 40},\n",
              " '103': {'expyear': 2026,\n",
              "  'p_name': 'lays',\n",
              "  'pkd_on': 'feb',\n",
              "  'price': 5,\n",
              "  'quantity': 120},\n",
              " '104': {'expyear': 2026,\n",
              "  'p_name': 'kurkure',\n",
              "  'pkd_on': 'febrauary',\n",
              "  'price': 10,\n",
              "  'quantity': 140},\n",
              " '105': {'expyear': 2025,\n",
              "  'p_name': 'soap',\n",
              "  'pkd_on': 'june',\n",
              "  'price': 25,\n",
              "  'quantity': 100},\n",
              " '106': {'expyear': 2028,\n",
              "  'p_name': 'lifeboy',\n",
              "  'pkd_on': 'june',\n",
              "  'price': 27,\n",
              "  'quantity': 72},\n",
              " '107': {'expyear': 2026,\n",
              "  'p_name': 'Santoor',\n",
              "  'pkd_on': 'august',\n",
              "  'price': 29,\n",
              "  'quantity': 60},\n",
              " '108': {'expyear': 2030,\n",
              "  'p_name': 'surfexel',\n",
              "  'pkd_on': 'january',\n",
              "  'price': 35,\n",
              "  'quantity': 40},\n",
              " '109': {'expyear': 2022,\n",
              "  'p_name': 'sprite',\n",
              "  'pkd_on': 'january',\n",
              "  'price': 40,\n",
              "  'quantity': 200},\n",
              " '110': {'expyear': 2022,\n",
              "  'p_name': 'cococola',\n",
              "  'pkd_on': 'march',\n",
              "  'price': 42,\n",
              "  'quantity': 20},\n",
              " '111': {'expyear': 2025,\n",
              "  'p_name': 'chicken masala',\n",
              "  'pkd_on': 'june',\n",
              "  'price': 10,\n",
              "  'quantity': 100},\n",
              " '112': {'expyear': 2025,\n",
              "  'p_name': 'garam masala',\n",
              "  'pkd_on': 'november',\n",
              "  'price': 10,\n",
              "  'quantity': 90},\n",
              " '113': {'expyear': 2024,\n",
              "  'p_name': 'kinder joy',\n",
              "  'pkd_on': 'april',\n",
              "  'price': 25,\n",
              "  'quantity': 76},\n",
              " '114': {'expyear': 2026,\n",
              "  'p_name': 'medimix',\n",
              "  'pkd_on': 'january',\n",
              "  'price': 32,\n",
              "  'quantity': 30},\n",
              " '115': {'expyear': 2025,\n",
              "  'p_name': 'dove shampoo',\n",
              "  'pkd_on': 'march',\n",
              "  'price': 60,\n",
              "  'quantity': 120},\n",
              " '116': {'expyear': 2022,\n",
              "  'p_name': 'chocobar',\n",
              "  'pkd_on': 'december',\n",
              "  'price': 15,\n",
              "  'quantity': 40},\n",
              " '117': {'expyear': 2026,\n",
              "  'p_name': 'Axe perfume',\n",
              "  'pkd_on': 'july',\n",
              "  'price': 90,\n",
              "  'quantity': 30},\n",
              " '118': {'expyear': 2024,\n",
              "  'p_name': 'chips',\n",
              "  'pkd_on': 'august',\n",
              "  'price': 10,\n",
              "  'quantity': 140},\n",
              " '119': {'expyear': 2024,\n",
              "  'p_name': 'Bingo',\n",
              "  'pkd_on': 'june',\n",
              "  'price': 20,\n",
              "  'quantity': 36},\n",
              " '120': {'expyear': 2029,\n",
              "  'p_name': 'headandshoulder',\n",
              "  'pkd_on': 'january',\n",
              "  'price': 1,\n",
              "  'quantity': 400},\n",
              " '121': {'expyear': 2030,\n",
              "  'p_name': 'dove soap',\n",
              "  'pkd_on': 'september',\n",
              "  'price': 30,\n",
              "  'quantity': 300},\n",
              " '122': {'expyear': 2026,\n",
              "  'p_name': 'Sunsilk',\n",
              "  'pkd_on': '',\n",
              "  'price': 2,\n",
              "  'quantity': 345},\n",
              " '123': {'expyear': 2030,\n",
              "  'p_name': 'layers shot',\n",
              "  'pkd_on': 'june',\n",
              "  'price': 123,\n",
              "  'quantity': 30},\n",
              " '124': {'expyear': 2022,\n",
              "  'p_name': 'dairy milk shot',\n",
              "  'pkd_on': 'january',\n",
              "  'price': 2,\n",
              "  'quantity': 140},\n",
              " '125': {'expyear': 2022,\n",
              "  'p_name': 'milky bar',\n",
              "  'pkd_on': 'march',\n",
              "  'price': 5,\n",
              "  'quantity': 200},\n",
              " '126': {'expyear': 2024,\n",
              "  'p_name': 'bleaching powder',\n",
              "  'pkd_on': 'febrauary',\n",
              "  'price': 34,\n",
              "  'quantity': 40},\n",
              " '127': {'expyear': 2025,\n",
              "  'p_name': 'phenol',\n",
              "  'pkd_on': 'march19',\n",
              "  'price': 45,\n",
              "  'quantity': 10},\n",
              " '128': {'expyear': 2023,\n",
              "  'p_name': 'tropicana',\n",
              "  'pkd_on': 'december19',\n",
              "  'price': 90,\n",
              "  'quantity': 60},\n",
              " '129': {'expyear': 2024,\n",
              "  'p_name': 'kitkat',\n",
              "  'pkd_on': 'march19',\n",
              "  'price': 10,\n",
              "  'quantity': 24},\n",
              " '130': {'expyear': 2025,\n",
              "  'p_name': ' oil',\n",
              "  'pkd_on': 'november19',\n",
              "  'price': 150,\n",
              "  'quantity': 45}}"
            ]
          },
          "metadata": {},
          "execution_count": 5
        }
      ]
    },
    {
      "cell_type": "code",
      "metadata": {
        "colab": {
          "base_uri": "https://localhost:8080/"
        },
        "id": "zOBFA6EOP8nb",
        "outputId": "b3d321b1-267f-4b5a-8201-97f807c7bc3b"
      },
      "source": [
        "print('**********************************')\n",
        "  \n",
        "  \n",
        "print('**********************************')\n",
        "  \n",
        "d=int(input(\"Enter the number of product you want to buy: \"))\n",
        "print('**********************************')\n",
        "pur={}\n",
        "  \n",
        "fd=open(\"data.json\",'r')\n",
        "t=fd.read()\n",
        "fd.close()\n",
        "list1=json.loads(t)\n",
        "\n",
        "#updating p_name\n",
        "\n",
        "for i in range (0,d):\n",
        "    \n",
        "    \n",
        "    print(\"Enter item id : \", end='')\n",
        "    k=input()\n",
        "    print(\"item: \", mall_store[k])\n",
        "    print(\"Quantity      :\", end='')\n",
        "    v=int(input())\n",
        "    \n",
        "    pur.update({k:v})\n",
        "    print(\"*********************************\")\n",
        "    \n",
        "    if k in list1:\n",
        "            \n",
        "            a=list1[k]['quantity']-v\n",
        "            list1[k]['quantity']=a\n",
        "    \n",
        "\n",
        "\n",
        "\n",
        "  \n",
        "\n",
        "  "
      ],
      "execution_count": 6,
      "outputs": [
        {
          "output_type": "stream",
          "name": "stdout",
          "text": [
            "**********************************\n",
            "**********************************\n",
            "Enter the number of product you want to buy: 2\n",
            "**********************************\n",
            "Enter item id : 112\n",
            "item:  {'p_name': 'garam masala', 'price': 10, 'quantity': 90, 'pkd_on': 'november', 'expyear': 2025}\n",
            "Quantity      :4\n",
            "*********************************\n",
            "Enter item id : 113\n",
            "item:  {'p_name': 'kinder joy', 'price': 25, 'quantity': 76, 'pkd_on': 'april', 'expyear': 2024}\n",
            "Quantity      :5\n",
            "*********************************\n"
          ]
        }
      ]
    },
    {
      "cell_type": "code",
      "metadata": {
        "colab": {
          "base_uri": "https://localhost:8080/"
        },
        "id": "NKwLRpwYP-m4",
        "outputId": "2cefbb03-3e13-491c-8043-5565515b6125"
      },
      "source": [
        "amount=0\n",
        "print(\"*********Billing statement**********\")\n",
        "for i in pur:    \n",
        "    if(i in mall_store.keys()):\n",
        "        \n",
        "        print(\"************************************\")\n",
        "        print('Item: {}' .format(mall_store[i]['p_name']))\n",
        "        print('Quantity: {}' .format(pur[i]))\n",
        "        \n",
        "        print('Cost: {} '.format(pur[i]*mall_store[i]['price']))\n",
        "        print(\"*************************************\")\n",
        "        amount+=pur[i]*mall_store[i]['price']\n",
        "print('Total bill : ',amount)\n"
      ],
      "execution_count": 7,
      "outputs": [
        {
          "output_type": "stream",
          "name": "stdout",
          "text": [
            "*********Billing statement**********\n",
            "************************************\n",
            "Item: garam masala\n",
            "Quantity: 4\n",
            "Cost: 40 \n",
            "*************************************\n",
            "************************************\n",
            "Item: kinder joy\n",
            "Quantity: 5\n",
            "Cost: 125 \n",
            "*************************************\n",
            "Total bill :  165\n"
          ]
        }
      ]
    },
    {
      "cell_type": "code",
      "metadata": {
        "colab": {
          "base_uri": "https://localhost:8080/"
        },
        "id": "q-neHR15QEcI",
        "outputId": "305b2a29-d67b-40c2-974a-f196044e4d7d"
      },
      "source": [
        "print(\"**********Available stock left in mall_store*********\")\n",
        "list1"
      ],
      "execution_count": 8,
      "outputs": [
        {
          "output_type": "stream",
          "name": "stdout",
          "text": [
            "**********Available stock left in mall_store*********\n"
          ]
        },
        {
          "output_type": "execute_result",
          "data": {
            "text/plain": [
              "{'100': {'expyear': 2021,\n",
              "  'p_name': 'icecream',\n",
              "  'pkd_on': 'november',\n",
              "  'price': 22,\n",
              "  'quantity': 100},\n",
              " '101': {'expyear': 2023,\n",
              "  'p_name': 'cadbery ',\n",
              "  'pkd_on': 'january',\n",
              "  'price': 10,\n",
              "  'quantity': 140},\n",
              " '102': {'expyear': 2023,\n",
              "  'p_name': 'parle g',\n",
              "  'pkd_on': 'january',\n",
              "  'price': 10,\n",
              "  'quantity': 40},\n",
              " '103': {'expyear': 2026,\n",
              "  'p_name': 'lays',\n",
              "  'pkd_on': 'feb',\n",
              "  'price': 5,\n",
              "  'quantity': 120},\n",
              " '104': {'expyear': 2026,\n",
              "  'p_name': 'kurkure',\n",
              "  'pkd_on': 'febrauary',\n",
              "  'price': 10,\n",
              "  'quantity': 140},\n",
              " '105': {'expyear': 2025,\n",
              "  'p_name': 'soap',\n",
              "  'pkd_on': 'june',\n",
              "  'price': 25,\n",
              "  'quantity': 100},\n",
              " '106': {'expyear': 2028,\n",
              "  'p_name': 'lifeboy',\n",
              "  'pkd_on': 'june',\n",
              "  'price': 27,\n",
              "  'quantity': 72},\n",
              " '107': {'expyear': 2026,\n",
              "  'p_name': 'Santoor',\n",
              "  'pkd_on': 'august',\n",
              "  'price': 29,\n",
              "  'quantity': 60},\n",
              " '108': {'expyear': 2030,\n",
              "  'p_name': 'surfexel',\n",
              "  'pkd_on': 'january',\n",
              "  'price': 35,\n",
              "  'quantity': 40},\n",
              " '109': {'expyear': 2022,\n",
              "  'p_name': 'sprite',\n",
              "  'pkd_on': 'january',\n",
              "  'price': 40,\n",
              "  'quantity': 200},\n",
              " '110': {'expyear': 2022,\n",
              "  'p_name': 'cococola',\n",
              "  'pkd_on': 'march',\n",
              "  'price': 42,\n",
              "  'quantity': 20},\n",
              " '111': {'expyear': 2025,\n",
              "  'p_name': 'chicken masala',\n",
              "  'pkd_on': 'june',\n",
              "  'price': 10,\n",
              "  'quantity': 100},\n",
              " '112': {'expyear': 2025,\n",
              "  'p_name': 'garam masala',\n",
              "  'pkd_on': 'november',\n",
              "  'price': 10,\n",
              "  'quantity': 86},\n",
              " '113': {'expyear': 2024,\n",
              "  'p_name': 'kinder joy',\n",
              "  'pkd_on': 'april',\n",
              "  'price': 25,\n",
              "  'quantity': 71},\n",
              " '114': {'expyear': 2026,\n",
              "  'p_name': 'medimix',\n",
              "  'pkd_on': 'january',\n",
              "  'price': 32,\n",
              "  'quantity': 30},\n",
              " '115': {'expyear': 2025,\n",
              "  'p_name': 'dove shampoo',\n",
              "  'pkd_on': 'march',\n",
              "  'price': 60,\n",
              "  'quantity': 120},\n",
              " '116': {'expyear': 2022,\n",
              "  'p_name': 'chocobar',\n",
              "  'pkd_on': 'december',\n",
              "  'price': 15,\n",
              "  'quantity': 40},\n",
              " '117': {'expyear': 2026,\n",
              "  'p_name': 'Axe perfume',\n",
              "  'pkd_on': 'july',\n",
              "  'price': 90,\n",
              "  'quantity': 30},\n",
              " '118': {'expyear': 2024,\n",
              "  'p_name': 'chips',\n",
              "  'pkd_on': 'august',\n",
              "  'price': 10,\n",
              "  'quantity': 140},\n",
              " '119': {'expyear': 2024,\n",
              "  'p_name': 'Bingo',\n",
              "  'pkd_on': 'june',\n",
              "  'price': 20,\n",
              "  'quantity': 36},\n",
              " '120': {'expyear': 2029,\n",
              "  'p_name': 'headandshoulder',\n",
              "  'pkd_on': 'january',\n",
              "  'price': 1,\n",
              "  'quantity': 400},\n",
              " '121': {'expyear': 2030,\n",
              "  'p_name': 'dove soap',\n",
              "  'pkd_on': 'september',\n",
              "  'price': 30,\n",
              "  'quantity': 300},\n",
              " '122': {'expyear': 2026,\n",
              "  'p_name': 'Sunsilk',\n",
              "  'pkd_on': '',\n",
              "  'price': 2,\n",
              "  'quantity': 345},\n",
              " '123': {'expyear': 2030,\n",
              "  'p_name': 'layers shot',\n",
              "  'pkd_on': 'june',\n",
              "  'price': 123,\n",
              "  'quantity': 30},\n",
              " '124': {'expyear': 2022,\n",
              "  'p_name': 'dairy milk shot',\n",
              "  'pkd_on': 'january',\n",
              "  'price': 2,\n",
              "  'quantity': 140},\n",
              " '125': {'expyear': 2022,\n",
              "  'p_name': 'milky bar',\n",
              "  'pkd_on': 'march',\n",
              "  'price': 5,\n",
              "  'quantity': 200},\n",
              " '126': {'expyear': 2024,\n",
              "  'p_name': 'bleaching powder',\n",
              "  'pkd_on': 'febrauary',\n",
              "  'price': 34,\n",
              "  'quantity': 40},\n",
              " '127': {'expyear': 2025,\n",
              "  'p_name': 'phenol',\n",
              "  'pkd_on': 'march19',\n",
              "  'price': 45,\n",
              "  'quantity': 10},\n",
              " '128': {'expyear': 2023,\n",
              "  'p_name': 'tropicana',\n",
              "  'pkd_on': 'december19',\n",
              "  'price': 90,\n",
              "  'quantity': 60},\n",
              " '129': {'expyear': 2024,\n",
              "  'p_name': 'kitkat',\n",
              "  'pkd_on': 'march19',\n",
              "  'price': 10,\n",
              "  'quantity': 24},\n",
              " '130': {'expyear': 2025,\n",
              "  'p_name': ' oil',\n",
              "  'pkd_on': 'november19',\n",
              "  'price': 150,\n",
              "  'quantity': 45}}"
            ]
          },
          "metadata": {},
          "execution_count": 8
        }
      ]
    },
    {
      "cell_type": "code",
      "metadata": {
        "id": "Xg_9PxJkQHNw"
      },
      "source": [
        "fd=open(\"updated_record.json\", 'w')\n",
        "js=json.dumps(list1)\n",
        "fd.write(js)\n",
        "fd.write(js) \n",
        "fd=open(\"updated_record.json\",'r')\n",
        "t = fd.read()\n",
        "fd.close()"
      ],
      "execution_count": 9,
      "outputs": []
    }
  ]
}